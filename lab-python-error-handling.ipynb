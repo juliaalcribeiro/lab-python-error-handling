{
 "cells": [
  {
   "cell_type": "markdown",
   "id": "25d7736c-ba17-4aff-b6bb-66eba20fbf4e",
   "metadata": {},
   "source": [
    "# Lab | Error Handling"
   ]
  },
  {
   "cell_type": "markdown",
   "id": "bc99b386-7508-47a0-bcdb-d969deaf6c8b",
   "metadata": {},
   "source": [
    "## Exercise: Error Handling for Managing Customer Orders\n",
    "\n",
    "The implementation of your code for managing customer orders assumes that the user will always enter a valid input. \n",
    "\n",
    "For example, we could modify the `initialize_inventory` function to include error handling.\n",
    "   - If the user enters an invalid quantity (e.g., a negative value or a non-numeric value), display an error message and ask them to re-enter the quantity for that product.\n",
    "   - Use a try-except block to handle the error and continue prompting the user until a valid quantity is entered.\n",
    "\n",
    "```python\n",
    "# Step 1: Define the function for initializing the inventory with error handling\n",
    "def initialize_inventory(products):\n",
    "    inventory = {}\n",
    "    for product in products:\n",
    "        valid_quantity = False\n",
    "        while not valid_quantity:\n",
    "            try:\n",
    "                quantity = int(input(f\"Enter the quantity of {product}s available: \"))\n",
    "                if quantity < 0:\n",
    "                    raise ValueError(\"Invalid quantity! Please enter a non-negative value.\")\n",
    "                valid_quantity = True\n",
    "            except ValueError as error:\n",
    "                print(f\"Error: {error}\")\n",
    "        inventory[product] = quantity\n",
    "    return inventory\n",
    "\n",
    "# Or, in another way:\n",
    "\n",
    "def initialize_inventory(products):\n",
    "    inventory = {}\n",
    "    for product in products:\n",
    "        valid_input = False\n",
    "        while not valid_input:\n",
    "            try:\n",
    "                quantity = int(input(f\"Enter the quantity of {product}s available: \"))\n",
    "                if quantity >= 0:\n",
    "                    inventory[product] = quantity\n",
    "                    valid_input = True\n",
    "                else:\n",
    "                    print(\"Quantity cannot be negative. Please enter a valid quantity.\")\n",
    "            except ValueError:\n",
    "                print(\"Invalid input. Please enter a valid quantity.\")\n",
    "    return inventory\n",
    "```\n",
    "\n",
    "Let's enhance your code by implementing error handling to handle invalid inputs.\n",
    "\n",
    "Follow the steps below to complete the exercise:\n",
    "\n",
    "2. Modify the `calculate_total_price` function to include error handling.\n",
    "   - If the user enters an invalid price (e.g., a negative value or a non-numeric value), display an error message and ask them to re-enter the price for that product.\n",
    "   - Use a try-except block to handle the error and continue prompting the user until a valid price is entered.\n",
    "\n",
    "3. Modify the `get_customer_orders` function to include error handling.\n",
    "   - If the user enters an invalid number of orders (e.g., a negative value or a non-numeric value), display an error message and ask them to re-enter the number of orders.\n",
    "   - If the user enters an invalid product name (e.g., a product name that is not in the inventory), or that doesn't have stock available, display an error message and ask them to re-enter the product name. *Hint: you will need to pass inventory as a parameter*\n",
    "   - Use a try-except block to handle the error and continue prompting the user until a valid product name is entered.\n",
    "\n",
    "4. Test your code by running the program and deliberately entering invalid quantities and product names. Make sure the error handling mechanism works as expected.\n"
   ]
  },
  {
   "cell_type": "code",
   "execution_count": 1,
   "id": "0ca58e0a-98e8-45fd-8137-4fcc43b9a6ae",
   "metadata": {},
   "outputs": [],
   "source": [
    "products = [\"t-shirt\", \"mug\", \"hat\", \"book\", \"keychain\"]"
   ]
  },
  {
   "cell_type": "code",
   "execution_count": 2,
   "id": "3d268207-e41f-47cb-aa8d-ce34b325baa8",
   "metadata": {},
   "outputs": [],
   "source": [
    "inventory = {}"
   ]
  },
  {
   "cell_type": "code",
   "execution_count": 3,
   "id": "3a1156eb-84f1-4213-9d7c-fa894a66793d",
   "metadata": {},
   "outputs": [],
   "source": [
    "def initialize_inventory(products):\n",
    "    inventory = {}\n",
    "    for product in products:\n",
    "        valid_input = False\n",
    "        while not valid_input:\n",
    "            try:\n",
    "                quantity = int(input(f\"Enter the quantity of {product}s available: \"))\n",
    "                if quantity >= 0:\n",
    "                    inventory[product] = quantity\n",
    "                    valid_input = True\n",
    "                else:\n",
    "                    print(\"Quantity cannot be negative. Please enter a valid quantity.\")\n",
    "            except ValueError:\n",
    "                print(\"Invalid input. Please enter a valid quantity.\")\n",
    "    return inventory"
   ]
  },
  {
   "cell_type": "code",
   "execution_count": 22,
   "id": "3026f659-f932-473f-8640-5a7a52420963",
   "metadata": {},
   "outputs": [
    {
     "name": "stdin",
     "output_type": "stream",
     "text": [
      "Enter the quantity of t-shirts available:  5\n",
      "Enter the quantity of mugs available:  10\n",
      "Enter the quantity of hats available:  15\n",
      "Enter the quantity of books available:  20\n",
      "Enter the quantity of keychains available:  25\n"
     ]
    },
    {
     "data": {
      "text/plain": [
       "{'t-shirt': 5, 'mug': 10, 'hat': 15, 'book': 20, 'keychain': 25}"
      ]
     },
     "execution_count": 22,
     "metadata": {},
     "output_type": "execute_result"
    }
   ],
   "source": [
    "inventory = initialize_inventory(products)\n",
    "inventory"
   ]
  },
  {
   "cell_type": "code",
   "execution_count": 17,
   "id": "564608b2-9257-4583-ac21-8190a0ab53dc",
   "metadata": {},
   "outputs": [],
   "source": [
    "def get_customer_orders(products):\n",
    "    customer_orders_list = []\n",
    "    valid_input = False\n",
    "    while not valid_input:\n",
    "        try:\n",
    "            customer_order_quantity_input = input(\"How many products were ordered? Please enter a numeric and integer number.\")\n",
    "            customer_order_quantity = int(customer_order_quantity_input)\n",
    "        except ValueError:\n",
    "            print(\"Invalid input. Please enter a numeric quantity.\")\n",
    "        else:\n",
    "            if customer_order_quantity > 0:\n",
    "                valid_input = True\n",
    "            else:\n",
    "                print(\"Invalid quantity, please enter a postiive number!\")\n",
    "\n",
    "    print(\"Products available: (t-shirt, mug, hat, book, keychain)\\n\")\n",
    "    for i in range(customer_order_quantity):\n",
    "        valid_product = False\n",
    "        while not valid_product:\n",
    "            customer_order_type = input(\"Please enter the product ordered: \").lower() \n",
    "            if customer_order_type not in products:\n",
    "                print(\"Invalid input. valid product (t-shirt, mug, hat, book, keychain)\")\n",
    "            else:\n",
    "                customer_orders_list.append(customer_order_type)\n",
    "                valid_product = True\n",
    "        \n",
    "    return customer_order_quantity, customer_orders_list"
   ]
  },
  {
   "cell_type": "code",
   "execution_count": 23,
   "id": "1c2a8beb-d357-4950-a8ab-87da33df680f",
   "metadata": {},
   "outputs": [
    {
     "name": "stdin",
     "output_type": "stream",
     "text": [
      "How many products were ordered? Please enter a numeric and integer number. 2\n"
     ]
    },
    {
     "name": "stdout",
     "output_type": "stream",
     "text": [
      "Products available: (t-shirt, mug, hat, book, keychain)\n",
      "\n"
     ]
    },
    {
     "name": "stdin",
     "output_type": "stream",
     "text": [
      "Please enter the product ordered:  hat\n",
      "Please enter the product ordered:  mug\n"
     ]
    },
    {
     "name": "stdout",
     "output_type": "stream",
     "text": [
      "Total Quantity of Orders:2 and List of Orders: ['hat', 'mug']\n"
     ]
    }
   ],
   "source": [
    "get_customer_orders_products_return = get_customer_orders(products)\n",
    "customer_order_quantity = get_customer_orders_products_return[0]\n",
    "customer_orders_list = get_customer_orders_products_return[1]\n",
    "print(f\"Total Quantity of Orders:{customer_order_quantity} and List of Orders: {customer_orders_list}\")"
   ]
  },
  {
   "cell_type": "code",
   "execution_count": 24,
   "id": "41d4b379-7bde-4129-9a01-94b56ed4baf3",
   "metadata": {},
   "outputs": [
    {
     "data": {
      "text/plain": [
       "{'t-shirt': 5, 'mug': 10, 'hat': 15, 'book': 20, 'keychain': 25}"
      ]
     },
     "execution_count": 24,
     "metadata": {},
     "output_type": "execute_result"
    }
   ],
   "source": [
    "inventory"
   ]
  },
  {
   "cell_type": "code",
   "execution_count": 25,
   "id": "b496c6ca-ef86-4421-be02-f8b4590c217b",
   "metadata": {},
   "outputs": [
    {
     "data": {
      "text/plain": [
       "{'t-shirt': 5, 'mug': 9, 'hat': 14, 'book': 20, 'keychain': 25}"
      ]
     },
     "execution_count": 25,
     "metadata": {},
     "output_type": "execute_result"
    }
   ],
   "source": [
    "inventory = {key:(value-1) if key in customer_orders_list else (value) for (key, value) in inventory.items()}\n",
    "inventory"
   ]
  },
  {
   "cell_type": "code",
   "execution_count": 29,
   "id": "4a25f20c-73b5-4f88-9129-c84119c76376",
   "metadata": {},
   "outputs": [],
   "source": [
    "def customer_order_price(customer_orders):\n",
    "    valid_product = False\n",
    "    while not valid_product:\n",
    "        try:\n",
    "            list_of_prices = [(float(input(f\"Please enter the price of {order}: \"))) for order in customer_orders]\n",
    "            valid_product = True\n",
    "        except ValueError:\n",
    "            print(\"Invalid input. Please enter a numeric value.\")\n",
    "    return list_of_prices"
   ]
  },
  {
   "cell_type": "code",
   "execution_count": 30,
   "id": "4f6fdf3f-0cb6-4189-92a6-661fc59e1037",
   "metadata": {},
   "outputs": [
    {
     "name": "stdin",
     "output_type": "stream",
     "text": [
      "Please enter the price of hat:  two\n"
     ]
    },
    {
     "name": "stdout",
     "output_type": "stream",
     "text": [
      "Invalid input. Please enter a numeric value.\n"
     ]
    },
    {
     "name": "stdin",
     "output_type": "stream",
     "text": [
      "Please enter the price of hat:  2\n",
      "Please enter the price of mug:  30\n"
     ]
    },
    {
     "name": "stdout",
     "output_type": "stream",
     "text": [
      "[2.0, 30.0]\n"
     ]
    }
   ],
   "source": [
    "list_of_prices = customer_order_price(customer_orders_list)\n",
    "print(list_of_prices)"
   ]
  }
 ],
 "metadata": {
  "kernelspec": {
   "display_name": "Python 3 (ipykernel)",
   "language": "python",
   "name": "python3"
  },
  "language_info": {
   "codemirror_mode": {
    "name": "ipython",
    "version": 3
   },
   "file_extension": ".py",
   "mimetype": "text/x-python",
   "name": "python",
   "nbconvert_exporter": "python",
   "pygments_lexer": "ipython3",
   "version": "3.13.5"
  }
 },
 "nbformat": 4,
 "nbformat_minor": 5
}
